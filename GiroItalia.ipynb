{
 "cells": [
  {
   "cell_type": "code",
   "execution_count": null,
   "metadata": {},
   "outputs": [],
   "source": [
    "import pandas as pd\n",
    "giroDB = pd.read_csv('sediTappa.csv')"
   ]
  },
  {
   "cell_type": "code",
   "execution_count": null,
   "metadata": {},
   "outputs": [],
   "source": [
    "italianCitiesDB = giroDB[giroDB.Comune != 'Estero']\n",
    "italianCitiesDB.drop([\"Sede di Tappa\", \"Località\"], axis = 1)"
   ]
  },
  {
   "cell_type": "code",
   "execution_count": null,
   "metadata": {},
   "outputs": [],
   "source": [
    "data = italianCitiesDB.groupby(by='Comune').max()['Ultima apparizione']\n",
    "DB = italianCitiesDB.groupby(by='Comune').sum()\n",
    "DB['Ultima apparizione'] = data\n",
    "DB['Comune'] = list(DB.index)"
   ]
  },
  {
   "cell_type": "code",
   "execution_count": null,
   "metadata": {},
   "outputs": [],
   "source": [
    "DB"
   ]
  },
  {
   "cell_type": "code",
   "execution_count": null,
   "metadata": {},
   "outputs": [],
   "source": [
    "from urllib.request import urlopen\n",
    "import json\n",
    "with urlopen('https://raw.githubusercontent.com/openpolis/geojson-italy/master/geojson/limits_IT_municipalities.geojson') as response:\n",
    "    municipalities = json.load(response)\n"
   ]
  },
  {
   "cell_type": "code",
   "execution_count": null,
   "metadata": {},
   "outputs": [],
   "source": [
    "for i in range(0, len(municipalities['features'])):\n",
    "  municipalities['features'][i]['id'] = str(i)"
   ]
  },
  {
   "cell_type": "code",
   "execution_count": null,
   "metadata": {},
   "outputs": [],
   "source": [
    "DB['ID'] = '100000'\n",
    "for municipality in municipalities['features']:\n",
    "  if(municipality['properties']['name'] in DB['Comune']):\n",
    "    DB['ID'][DB['Comune'] == municipality['properties']['name']] = municipality['id']\n"
   ]
  },
  {
   "cell_type": "code",
   "execution_count": null,
   "metadata": {},
   "outputs": [],
   "source": [
    "import plotly.express as px\n",
    "fig = px.choropleth_mapbox(DB, geojson=municipalities, locations='ID',\n",
    "                           color='Totale',\n",
    "                           color_continuous_scale=\"Peach\",\n",
    "                           range_color=(1, 20),\n",
    "                           mapbox_style=\"carto-positron\",\n",
    "                           zoom=4, center = {\"lat\": 42.875555, \"lon\": 12.524437},\n",
    "                           opacity=0.5,\n",
    "                           labels={'Totale':'Sedi di tappa'},\n",
    "                           hover_name=\"Comune\",\n",
    "                           hover_data=[\"Partenze\", \"Arrivi\", \"Ultima apparizione\"]\n",
    "                          )\n",
    "fig.update_layout(margin={\"r\":0,\"t\":0,\"l\":0,\"b\":0})\n",
    "fig.show()"
   ]
  }
 ],
 "metadata": {
  "file_extension": ".py",
  "kernelspec": {
   "display_name": "Python 3",
   "language": "python",
   "name": "python3"
  },
  "language_info": {
   "codemirror_mode": {
    "name": "ipython",
    "version": 3
   },
   "file_extension": ".py",
   "mimetype": "text/x-python",
   "name": "python",
   "nbconvert_exporter": "python",
   "pygments_lexer": "ipython3",
   "version": "3.6.6"
  },
  "mimetype": "text/x-python",
  "name": "python",
  "npconvert_exporter": "python",
  "pygments_lexer": "ipython3",
  "version": 3
 },
 "nbformat": 4,
 "nbformat_minor": 2
}
